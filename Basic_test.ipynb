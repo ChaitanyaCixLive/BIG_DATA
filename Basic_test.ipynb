{
 "cells": [
  {
   "cell_type": "code",
   "execution_count": 25,
   "metadata": {
    "collapsed": false
   },
   "outputs": [],
   "source": [
    "import nltk\n",
    "from nltk.corpus import words \n",
    "import numpy as np\n",
    "from collections import defaultdict #this is for dictionary \n",
    "\n",
    "def get_token(filename,d):\n",
    "    f=open(filename,'r').read();\n",
    "    list_dict=nltk.word_tokenize(f);\n",
    "    for word in list_dict:\n",
    "        if word in words.words() and not word in d:#this will check if the word is real/..\n",
    "            d[word]=len(d);\n",
    "            print(word);\n",
    "    print(list_dict)\n",
    "    \n",
    "#this is to save the new dictionary to the file so that it can be used later\n",
    "def save_dict(filename,d):\n",
    "    np.save(filename,d);\n",
    "    \n",
    "def load_dict(filename,d):\n",
    "    np.load(filename)\n"
   ]
  },
  {
   "cell_type": "code",
   "execution_count": 26,
   "metadata": {
    "collapsed": true
   },
   "outputs": [],
   "source": [
    "FILE_DICT=\"Dict_FILE\"\n",
    "READ_FILE=\"test1.txt\""
   ]
  },
  {
   "cell_type": "code",
   "execution_count": null,
   "metadata": {
    "collapsed": false
   },
   "outputs": [
    {
     "name": "stdout",
     "output_type": "stream",
     "text": [
      "together\n",
      "with\n",
      "in\n",
      "A\n",
      "new\n",
      "approach\n",
      "to\n",
      "understanding\n",
      "of\n",
      "linguistic\n",
      "style\n",
      "and\n",
      "Lee\n",
      "the\n",
      "on\n",
      "this\n",
      "paper\n",
      "is\n",
      "included\n",
      "zip\n",
      "file\n",
      "you\n",
      "have\n",
      "report\n",
      "these\n",
      "corpora\n",
      "please\n",
      "send\n",
      "or\n",
      "so\n",
      "we\n",
      "can\n",
      "add\n",
      "our\n",
      "list\n",
      "people\n",
      "data\n",
      "description\n",
      "B\n",
      "C\n",
      "collection\n",
      "procedure\n",
      "D\n",
      "corpus\n",
      "a\n",
      "fictional\n",
      "extracted\n",
      "from\n",
      "raw\n",
      "movie\n",
      "conversational\n",
      "between\n",
      "total\n",
      "release\n",
      "year\n",
      "rating\n",
      "number\n",
      "character\n",
      "gender\n",
      "for\n",
      "position\n",
      "all\n",
      "field\n",
      "separator\n",
      "information\n",
      "about\n",
      "each\n",
      "title\n",
      "no\n",
      "format\n",
      "name\n",
      "unlabeled\n",
      "actual\n",
      "text\n",
      "utterance\n",
      "who\n",
      "phrase\n",
      "structure\n",
      "first\n",
      "involved\n",
      "conversation\n",
      "second\n",
      "which\n",
      "that\n",
      "make\n",
      "chronological\n",
      "order\n",
      "be\n",
      "reconstruct\n",
      "content\n"
     ]
    }
   ],
   "source": [
    "d=defaultdict()    \n",
    "get_token(READ_FILE,d);\n",
    "save_dict(FILE_DICT,d);"
   ]
  },
  {
   "cell_type": "code",
   "execution_count": null,
   "metadata": {
    "collapsed": true
   },
   "outputs": [],
   "source": []
  },
  {
   "cell_type": "code",
   "execution_count": null,
   "metadata": {
    "collapsed": true
   },
   "outputs": [],
   "source": []
  }
 ],
 "metadata": {
  "anaconda-cloud": {},
  "kernelspec": {
   "display_name": "Python [default]",
   "language": "python",
   "name": "python3"
  },
  "language_info": {
   "codemirror_mode": {
    "name": "ipython",
    "version": 3
   },
   "file_extension": ".py",
   "mimetype": "text/x-python",
   "name": "python",
   "nbconvert_exporter": "python",
   "pygments_lexer": "ipython3",
   "version": "3.5.2"
  }
 },
 "nbformat": 4,
 "nbformat_minor": 1
}
